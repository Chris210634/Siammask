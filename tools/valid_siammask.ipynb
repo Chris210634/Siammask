{
 "cells": [
  {
   "cell_type": "code",
   "execution_count": 5,
   "id": "e49b058d",
   "metadata": {},
   "outputs": [],
   "source": [
    "# --------------------------------------------------------\n",
    "# SiamMask\n",
    "# Licensed under The MIT License\n",
    "# Written by Qiang Wang (wangqiang2015 at ia.ac.cn)\n",
    "# --------------------------------------------------------\n",
    "import argparse\n",
    "import logging\n",
    "import os\n",
    "import cv2\n",
    "import shutil\n",
    "import time\n",
    "import json\n",
    "import math\n",
    "import torch\n",
    "from torch.utils.data import DataLoader\n",
    "\n",
    "from utils.log_helper import init_log, print_speed, add_file_handler, Dummy\n",
    "from utils.load_helper import load_pretrain, restore_from\n",
    "from utils.average_meter_helper import AverageMeter\n",
    "\n",
    "from datasets.siam_mask_dataset import DataSets\n",
    "\n",
    "from utils.lr_helper import build_lr_scheduler\n",
    "from tensorboardX import SummaryWriter\n",
    "\n",
    "from utils.config_helper import load_config\n",
    "from torch.utils.collect_env import get_pretty_env_info\n",
    "\n",
    "torch.backends.cudnn.benchmark = True\n",
    "\n",
    "parser = argparse.ArgumentParser(description='PyTorch Tracking SiamMask Training')\n",
    "\n",
    "parser.add_argument('-j', '--workers', default=1, type=int, metavar='N',\n",
    "                    help='number of data loading workers (default: 16)')\n",
    "parser.add_argument('--epochs', default=20, type=int, metavar='N',\n",
    "                    help='number of total epochs to run')\n",
    "parser.add_argument('--start-epoch', default=0, type=int, metavar='N',\n",
    "                    help='manual epoch number (useful on restarts)')\n",
    "parser.add_argument('-b', '--batch', default=64, type=int,\n",
    "                    metavar='N', help='mini-batch size (default: 64)')\n",
    "parser.add_argument('--lr', '--learning-rate', default=0.001, type=float,\n",
    "                    metavar='LR', help='initial learning rate')\n",
    "parser.add_argument('--momentum', default=0.9, type=float, metavar='M',\n",
    "                    help='momentum')\n",
    "parser.add_argument('--weight-decay', '--wd', default=1e-4, type=float,\n",
    "                    metavar='W', help='weight decay (default: 1e-4)')\n",
    "parser.add_argument('--clip', default=10.0, type=float,\n",
    "                    help='gradient clip value')\n",
    "parser.add_argument('--print-freq', '-p', default=10, type=int,\n",
    "                    metavar='N', help='print frequency (default: 10)')\n",
    "parser.add_argument('--resume', default='', type=str, metavar='PATH',\n",
    "                    help='path to latest checkpoint (default: none)')\n",
    "parser.add_argument('--pretrained', dest='pretrained', default='',\n",
    "                    help='use pre-trained model')\n",
    "parser.add_argument('--config', dest='config', required=True,\n",
    "                    help='hyperparameter of SiamMask in json format')\n",
    "parser.add_argument('--arch', dest='arch', default='', choices=['Custom',],\n",
    "                    help='architecture of pretrained model')\n",
    "parser.add_argument('-l', '--log', default=\"log.txt\", type=str,\n",
    "                    help='log file')\n",
    "parser.add_argument('-s', '--save_dir', default='snapshot', type=str,\n",
    "                    help='save dir')\n",
    "parser.add_argument('--log-dir', default='board', help='TensorBoard log dir')\n",
    "\n",
    "\n",
    "best_acc = 0.\n",
    "\n",
    "\n",
    "def collect_env_info():\n",
    "    env_str = get_pretty_env_info()\n",
    "    env_str += \"\\n        OpenCV ({})\".format(cv2.__version__)\n",
    "    return env_str\n",
    "\n",
    "\n",
    "def build_data_loader(cfg):\n",
    "    logger = logging.getLogger('global')\n",
    "\n",
    "    logger.info(\"build train dataset\")  # train_dataset\n",
    "    train_set = DataSets(cfg['train_datasets'], cfg['anchors'], args.epochs)\n",
    "    train_set.shuffle()\n",
    "\n",
    "    logger.info(\"build val dataset\")  # val_dataset\n",
    "    if not 'val_datasets' in cfg.keys():\n",
    "        cfg['val_datasets'] = cfg['train_datasets']\n",
    "    val_set = DataSets(cfg['val_datasets'], cfg['anchors'])\n",
    "    val_set.shuffle()\n",
    "\n",
    "    train_loader = DataLoader(train_set, batch_size=args.batch, num_workers=args.workers,\n",
    "                              pin_memory=True, sampler=None)\n",
    "    val_loader = DataLoader(val_set, batch_size=args.batch, num_workers=args.workers,\n",
    "                            pin_memory=True, sampler=None)\n",
    "\n",
    "    logger.info('build dataset done')\n",
    "    return train_loader, val_loader\n",
    "\n",
    "\n",
    "def build_opt_lr(model, cfg, args, epoch):\n",
    "    backbone_feature = model.features.param_groups(cfg['lr']['start_lr'], cfg['lr']['feature_lr_mult'])\n",
    "    if len(backbone_feature) == 0:\n",
    "        trainable_params = model.rpn_model.param_groups(cfg['lr']['start_lr'], cfg['lr']['rpn_lr_mult'], 'mask')\n",
    "    else:\n",
    "        trainable_params = backbone_feature + \\\n",
    "                           model.rpn_model.param_groups(cfg['lr']['start_lr'], cfg['lr']['rpn_lr_mult']) + \\\n",
    "                           model.mask_model.param_groups(cfg['lr']['start_lr'], cfg['lr']['mask_lr_mult'])\n",
    "\n",
    "    optimizer = torch.optim.SGD(trainable_params, args.lr,\n",
    "                                momentum=args.momentum,\n",
    "                                weight_decay=args.weight_decay)\n",
    "\n",
    "    lr_scheduler = build_lr_scheduler(optimizer, cfg['lr'], epochs=args.epochs)\n",
    "\n",
    "    lr_scheduler.step(epoch)\n",
    "\n",
    "    return optimizer, lr_scheduler\n",
    "\n",
    "\n",
    "def main():\n",
    "    global args, best_acc, tb_writer, logger\n",
    "    args = parser.parse_args()\n",
    "\n",
    "    init_log('global', logging.INFO)\n",
    "\n",
    "    if args.log != \"\":\n",
    "        add_file_handler('global', args.log, logging.INFO)\n",
    "\n",
    "    \n",
    "    print(\"Init logger\")\n",
    "\n",
    "    logger = logging.getLogger('global')\n",
    "\n",
    "    print(44)\n",
    "    #logger.info(\"\\n\" + collect_env_info())\n",
    "    print(99)\n",
    "    logger.info(args)\n",
    "\n",
    "    cfg = load_config(args)\n",
    "    logger.info(\"config \\n{}\".format(json.dumps(cfg, indent=4)))\n",
    "\n",
    "    print(2)\n",
    "\n",
    "    if args.log_dir:\n",
    "        tb_writer = SummaryWriter(args.log_dir)\n",
    "    else:\n",
    "        tb_writer = Dummy()\n",
    "\n",
    "    # build dataset\n",
    "    train_loader, val_loader = build_data_loader(cfg)\n",
    "\n",
    "    print(3)\n",
    "\n",
    "    if args.arch == 'Custom':\n",
    "        from custom import Custom\n",
    "        model = Custom(pretrain=True, anchors=cfg['anchors'])\n",
    "    else:\n",
    "        exit()\n",
    "    logger.info(model)\n",
    "\n",
    "    print(4)\n",
    "\n",
    "    if args.pretrained:\n",
    "        model = load_pretrain(model, args.pretrained)\n",
    "\n",
    "    model = model.cuda()\n",
    "    dist_model = torch.nn.DataParallel(model, list(range(torch.cuda.device_count()))).cuda()\n",
    "\n",
    "    if args.resume and args.start_epoch != 0:\n",
    "        model.features.unfix((args.start_epoch - 1) / args.epochs)\n",
    "\n",
    "    optimizer, lr_scheduler = build_opt_lr(model, cfg, args, args.start_epoch)\n",
    "    # optionally resume from a checkpoint\n",
    "    if args.resume:\n",
    "        assert os.path.isfile(args.resume), '{} is not a valid file'.format(args.resume)\n",
    "        model, optimizer, args.start_epoch, best_acc, arch = restore_from(model, optimizer, args.resume)\n",
    "        dist_model = torch.nn.DataParallel(model, list(range(torch.cuda.device_count()))).cuda()\n",
    "\n",
    "    logger.info(lr_scheduler)\n",
    "\n",
    "    logger.info('model prepare done')\n",
    "\n",
    "    train(train_loader, dist_model, optimizer, lr_scheduler, args.start_epoch, cfg)\n",
    "\n",
    "\n",
    "def train(train_loader, model, optimizer, lr_scheduler, epoch, cfg):\n",
    "    global tb_index, best_acc, cur_lr, logger\n",
    "    cur_lr = lr_scheduler.get_cur_lr()\n",
    "    logger = logging.getLogger('global')\n",
    "    avg = AverageMeter()\n",
    "    model.train()\n",
    "    model = model.cuda()\n",
    "    end = time.time()\n",
    "\n",
    "    def is_valid_number(x):\n",
    "        return not(math.isnan(x) or math.isinf(x) or x > 1e4)\n",
    "\n",
    "    num_per_epoch = len(train_loader.dataset) // args.epochs // args.batch\n",
    "    start_epoch = epoch\n",
    "    epoch = epoch\n",
    "    for iter, input in enumerate(train_loader):\n",
    "\n",
    "        if epoch != iter // num_per_epoch + start_epoch:  # next epoch\n",
    "            epoch = iter // num_per_epoch + start_epoch\n",
    "\n",
    "            if not os.path.exists(args.save_dir):  # makedir/save model\n",
    "                os.makedirs(args.save_dir)\n",
    "\n",
    "            save_checkpoint({\n",
    "                    'epoch': epoch,\n",
    "                    'arch': args.arch,\n",
    "                    'state_dict': model.module.state_dict(),\n",
    "                    'best_acc': best_acc,\n",
    "                    'optimizer': optimizer.state_dict(),\n",
    "                    'anchor_cfg': cfg['anchors']\n",
    "                }, False,\n",
    "                os.path.join(args.save_dir, 'checkpoint_e%d.pth' % (epoch)),\n",
    "                os.path.join(args.save_dir, 'best.pth'))\n",
    "\n",
    "            if epoch == args.epochs:\n",
    "                return\n",
    "\n",
    "            if model.module.features.unfix(epoch/args.epochs):\n",
    "                logger.info('unfix part model.')\n",
    "                optimizer, lr_scheduler = build_opt_lr(model.module, cfg, args, epoch)\n",
    "\n",
    "            lr_scheduler.step(epoch)\n",
    "            cur_lr = lr_scheduler.get_cur_lr()\n",
    "\n",
    "            logger.info('epoch:{}'.format(epoch))\n",
    "\n",
    "        tb_index = iter\n",
    "        if iter % num_per_epoch == 0 and iter != 0:\n",
    "            for idx, pg in enumerate(optimizer.param_groups):\n",
    "                logger.info(\"epoch {} lr {}\".format(epoch, pg['lr']))\n",
    "                tb_writer.add_scalar('lr/group%d' % (idx+1), pg['lr'], tb_index)\n",
    "\n",
    "        data_time = time.time() - end\n",
    "        avg.update(data_time=data_time)\n",
    "        x = {\n",
    "            'cfg': cfg,\n",
    "            'template': torch.autograd.Variable(input[0]).cuda(),\n",
    "            'search': torch.autograd.Variable(input[1]).cuda(),\n",
    "            'label_cls': torch.autograd.Variable(input[2]).cuda(),\n",
    "            'label_loc': torch.autograd.Variable(input[3]).cuda(),\n",
    "            'label_loc_weight': torch.autograd.Variable(input[4]).cuda(),\n",
    "            'label_mask': torch.autograd.Variable(input[6]).cuda(),\n",
    "            'label_mask_weight': torch.autograd.Variable(input[7]).cuda(),\n",
    "        }\n",
    "\n",
    "        outputs = model(x)\n",
    "\n",
    "        rpn_cls_loss, rpn_loc_loss, rpn_mask_loss = torch.mean(outputs['losses'][0]), torch.mean(outputs['losses'][1]), torch.mean(outputs['losses'][2])\n",
    "        mask_iou_mean, mask_iou_at_5, mask_iou_at_7 = torch.mean(outputs['accuracy'][0]), torch.mean(outputs['accuracy'][1]), torch.mean(outputs['accuracy'][2])\n",
    "\n",
    "        cls_weight, reg_weight, mask_weight = cfg['loss']['weight']\n",
    "\n",
    "        loss = rpn_cls_loss * cls_weight + rpn_loc_loss * reg_weight + rpn_mask_loss * mask_weight\n",
    "\n",
    "        optimizer.zero_grad()\n",
    "        loss.backward()\n",
    "\n",
    "        if cfg['clip']['split']:\n",
    "            torch.nn.utils.clip_grad_norm_(model.module.features.parameters(), cfg['clip']['feature'])\n",
    "            torch.nn.utils.clip_grad_norm_(model.module.rpn_model.parameters(), cfg['clip']['rpn'])\n",
    "            torch.nn.utils.clip_grad_norm_(model.module.mask_model.parameters(), cfg['clip']['mask'])\n",
    "        else:\n",
    "            torch.nn.utils.clip_grad_norm_(model.parameters(), args.clip)  # gradient clip\n",
    "\n",
    "        if is_valid_number(loss.item()):\n",
    "            optimizer.step()\n",
    "\n",
    "        siammask_loss = loss.item()\n",
    "\n",
    "        batch_time = time.time() - end\n",
    "\n",
    "        avg.update(batch_time=batch_time, rpn_cls_loss=rpn_cls_loss, rpn_loc_loss=rpn_loc_loss,\n",
    "                   rpn_mask_loss=rpn_mask_loss, siammask_loss=siammask_loss,\n",
    "                   mask_iou_mean=mask_iou_mean, mask_iou_at_5=mask_iou_at_5, mask_iou_at_7=mask_iou_at_7)\n",
    "\n",
    "        tb_writer.add_scalar('loss/cls', rpn_cls_loss, tb_index)\n",
    "        tb_writer.add_scalar('loss/loc', rpn_loc_loss, tb_index)\n",
    "        tb_writer.add_scalar('loss/mask', rpn_mask_loss, tb_index)\n",
    "        tb_writer.add_scalar('mask/mIoU', mask_iou_mean, tb_index)\n",
    "        tb_writer.add_scalar('mask/AP@.5', mask_iou_at_5, tb_index)\n",
    "        tb_writer.add_scalar('mask/AP@.7', mask_iou_at_7, tb_index)\n",
    "        end = time.time()\n",
    "\n",
    "        if (iter + 1) % args.print_freq == 0:\n",
    "            logger.info('Epoch: [{0}][{1}/{2}] lr: {lr:.6f}\\t{batch_time:s}\\t{data_time:s}'\n",
    "                        '\\t{rpn_cls_loss:s}\\t{rpn_loc_loss:s}\\t{rpn_mask_loss:s}\\t{siammask_loss:s}'\n",
    "                        '\\t{mask_iou_mean:s}\\t{mask_iou_at_5:s}\\t{mask_iou_at_7:s}'.format(\n",
    "                        epoch+1, (iter + 1) % num_per_epoch, num_per_epoch, lr=cur_lr, batch_time=avg.batch_time,\n",
    "                        data_time=avg.data_time, rpn_cls_loss=avg.rpn_cls_loss, rpn_loc_loss=avg.rpn_loc_loss,\n",
    "                        rpn_mask_loss=avg.rpn_mask_loss, siammask_loss=avg.siammask_loss, mask_iou_mean=avg.mask_iou_mean,\n",
    "                        mask_iou_at_5=avg.mask_iou_at_5,mask_iou_at_7=avg.mask_iou_at_7))\n",
    "            print_speed(iter + 1, avg.batch_time.avg, args.epochs * num_per_epoch)\n",
    "\n",
    "\n",
    "def save_checkpoint(state, is_best, filename='checkpoint.pth', best_file='model_best.pth'):\n",
    "    torch.save(state, filename)\n",
    "    if is_best:\n",
    "        shutil.copyfile(filename, best_file)"
   ]
  },
  {
   "cell_type": "code",
   "execution_count": 6,
   "id": "1f209e4e",
   "metadata": {},
   "outputs": [],
   "source": [
    "global args, best_acc, tb_writer, logger"
   ]
  },
  {
   "cell_type": "code",
   "execution_count": 7,
   "id": "fb0be594",
   "metadata": {},
   "outputs": [],
   "source": [
    "args = parser.parse_args([\"--config\", \"/projectnb/ece601/cliao25/SiamMask/experiments/siammask_base/config.json\",\"-b\",\"32\",\"-j\",\"6\"])"
   ]
  },
  {
   "cell_type": "code",
   "execution_count": 8,
   "id": "c5d6f3e6",
   "metadata": {},
   "outputs": [
    {
     "data": {
      "text/plain": [
       "Namespace(arch='', batch=32, clip=10.0, config='/projectnb/ece601/cliao25/SiamMask/experiments/siammask_base/config.json', epochs=20, log='log.txt', log_dir='board', lr=0.001, momentum=0.9, pretrained='', print_freq=10, resume='', save_dir='snapshot', start_epoch=0, weight_decay=0.0001, workers=6)"
      ]
     },
     "execution_count": 8,
     "metadata": {},
     "output_type": "execute_result"
    }
   ],
   "source": [
    "args"
   ]
  },
  {
   "cell_type": "code",
   "execution_count": 9,
   "id": "0822b554",
   "metadata": {},
   "outputs": [],
   "source": [
    "cfg = load_config(args)"
   ]
  },
  {
   "cell_type": "code",
   "execution_count": 143,
   "id": "cb9233e9",
   "metadata": {},
   "outputs": [
    {
     "name": "stderr",
     "output_type": "stream",
     "text": [
      "[2021-04-18 21:49:13,602-rk0-<ipython-input-1-648063a4f664># 78] build train dataset\n",
      "[2021-04-18 21:49:13,603-rk0-siam_mask_dataset.py# 36] loading /scratch/cliao25/data/ytb_vos/train.json\n",
      "[2021-04-18 21:49:13,830-rk0-siam_mask_dataset.py# 74] /scratch/cliao25/data/ytb_vos/train.json loaded.\n",
      "[2021-04-18 21:49:13,938-rk0-siam_mask_dataset.py#134] SubDataSet ytb_vos start-index 0 select [200000/3000] path {}.{}.{}.jpg\n",
      "[2021-04-18 21:49:13,938-rk0-siam_mask_dataset.py# 36] loading /scratch/cliao25/data/vid/train.json\n",
      "[2021-04-18 21:49:17,905-rk0-siam_mask_dataset.py# 74] /scratch/cliao25/data/vid/train.json loaded.\n",
      "[2021-04-18 21:49:18,004-rk0-siam_mask_dataset.py#134] SubDataSet vid start-index 3000 select [200000/3862] path {}.{}.{}.jpg\n",
      "[2021-04-18 21:49:18,005-rk0-siam_mask_dataset.py# 36] loading /scratch/cliao25/data/coco/train2017.json\n",
      "[2021-04-18 21:49:22,514-rk0-siam_mask_dataset.py#118] Error, coco train2017/000000512390 12 [366.3, 120.6, 372.24, 120.6]\n",
      "[2021-04-18 21:49:23,793-rk0-siam_mask_dataset.py# 74] /scratch/cliao25/data/coco/train2017.json loaded.\n",
      "[2021-04-18 21:49:23,863-rk0-siam_mask_dataset.py#134] SubDataSet coco start-index 6862 select [117266/117266] path {}.{}.{}.jpg\n",
      "[2021-04-18 21:49:37,005-rk0-siam_mask_dataset.py#508] shuffle done!\n",
      "[2021-04-18 21:49:37,007-rk0-siam_mask_dataset.py#509] dataset length 12000000\n",
      "[2021-04-18 21:49:37,008-rk0-siam_mask_dataset.py#477] dataset informations: \n",
      "{\n",
      "    \"template\": 127,\n",
      "    \"search\": 255,\n",
      "    \"template_small\": false,\n",
      "    \"gray\": 0.25,\n",
      "    \"neg\": 0.2,\n",
      "    \"inner_neg\": 0,\n",
      "    \"crop_size\": 0,\n",
      "    \"anchor_target\": {\n",
      "        \"thr_high\": 0.6,\n",
      "        \"thr_low\": 0.3,\n",
      "        \"negative\": 16,\n",
      "        \"rpn_batch\": 64,\n",
      "        \"positive\": 16\n",
      "    },\n",
      "    \"num\": 600000\n",
      "}\n",
      "[2021-04-18 21:49:49,842-rk0-siam_mask_dataset.py#508] shuffle done!\n",
      "[2021-04-18 21:49:49,843-rk0-siam_mask_dataset.py#509] dataset length 12000000\n",
      "[2021-04-18 21:49:49,846-rk0-<ipython-input-1-648063a4f664># 82] build val dataset\n",
      "[2021-04-18 21:49:49,847-rk0-siam_mask_dataset.py# 36] loading /scratch/cliao25/data/vid/val.json\n",
      "[2021-04-18 21:49:52,834-rk0-siam_mask_dataset.py# 74] /scratch/cliao25/data/vid/val.json loaded.\n",
      "[2021-04-18 21:49:52,835-rk0-siam_mask_dataset.py#134] SubDataSet vid start-index 0 select [555/555] path {}.{}.{}.jpg\n",
      "[2021-04-18 21:49:52,836-rk0-siam_mask_dataset.py#508] shuffle done!\n",
      "[2021-04-18 21:49:52,836-rk0-siam_mask_dataset.py#509] dataset length 555\n",
      "[2021-04-18 21:49:52,838-rk0-siam_mask_dataset.py#477] dataset informations: \n",
      "{\n",
      "    \"template\": 127,\n",
      "    \"search\": 255,\n",
      "    \"template_small\": false,\n",
      "    \"gray\": 0,\n",
      "    \"neg\": 0,\n",
      "    \"inner_neg\": 0,\n",
      "    \"crop_size\": 0,\n",
      "    \"anchor_target\": {\n",
      "        \"thr_high\": 0.6,\n",
      "        \"thr_low\": 0.3,\n",
      "        \"negative\": 16,\n",
      "        \"rpn_batch\": 64,\n",
      "        \"positive\": 16\n",
      "    },\n",
      "    \"num\": 555\n",
      "}\n",
      "[2021-04-18 21:49:52,839-rk0-siam_mask_dataset.py#508] shuffle done!\n",
      "[2021-04-18 21:49:52,839-rk0-siam_mask_dataset.py#509] dataset length 555\n",
      "[2021-04-18 21:49:52,840-rk0-<ipython-input-1-648063a4f664># 93] build dataset done\n"
     ]
    }
   ],
   "source": [
    "train_loader, val_loader = build_data_loader(cfg)"
   ]
  },
  {
   "cell_type": "code",
   "execution_count": 10,
   "id": "4ebbc28e",
   "metadata": {},
   "outputs": [],
   "source": [
    "from custom import Custom"
   ]
  },
  {
   "cell_type": "code",
   "execution_count": 12,
   "id": "df322ff3",
   "metadata": {},
   "outputs": [
    {
     "name": "stderr",
     "output_type": "stream",
     "text": [
      "[2021-04-18 22:35:44,996-rk0-features.py# 66] Current training 0 layers:\n",
      "\t\n",
      "[2021-04-18 22:35:44,998-rk0-features.py# 66] Current training 1 layers:\n",
      "\t\n"
     ]
    }
   ],
   "source": [
    "model = Custom(pretrain=False, anchors=cfg['anchors'])\n",
    "#path = \"/usr4/alg504/cliao25/siammask/experiments/siammask_base/snapshot/checkpoint_e{}.pth\"\n",
    "epoch=1\n",
    "filepath = path.format(epoch)\n",
    "assert os.path.isfile(filepath)\n",
    "    \n",
    "model = model.cuda()\n",
    "\n",
    "optimizer, lr_scheduler = build_opt_lr(model, cfg, args, epoch)\n",
    "filepath = path.format(epoch)\n",
    "assert os.path.isfile(filepath)\n",
    "\n",
    "#model, _, _, _, _ = restore_from(model, optimizer, filepath)\n",
    "\n",
    "model = torch.nn.DataParallel(model, list(range(torch.cuda.device_count()))).cuda()\n",
    "\n",
    "model.train()\n",
    "device = torch.device('cuda')\n",
    "model = model.to(device)"
   ]
  },
  {
   "cell_type": "code",
   "execution_count": 13,
   "id": "c3786cec",
   "metadata": {},
   "outputs": [],
   "source": [
    "save_checkpoint({\n",
    "                    'epoch': 40,\n",
    "                    'arch': args.arch,\n",
    "                    'state_dict': model.module.state_dict(),\n",
    "                    'best_acc': 0,\n",
    "                    'optimizer': optimizer.state_dict(),\n",
    "                    'anchor_cfg': cfg['anchors']\n",
    "                }, False,\n",
    "                'checkpoint_e%d.pth' % (40),\n",
    "                'best.pth')"
   ]
  },
  {
   "cell_type": "code",
   "execution_count": 196,
   "id": "9231ccf0",
   "metadata": {},
   "outputs": [
    {
     "name": "stdout",
     "output_type": "stream",
     "text": [
      "tensor(2.8722, device='cuda:0')\n",
      "tensor(0., device='cuda:0')\n",
      "tensor(0., device='cuda:0')\n",
      "tensor(0., device='cuda:0')\n",
      "tensor(0., device='cuda:0')\n",
      "tensor(2.6042, device='cuda:0')\n",
      "tensor(0., device='cuda:0')\n",
      "tensor(0., device='cuda:0')\n",
      "tensor(0., device='cuda:0')\n",
      "tensor(0., device='cuda:0')\n",
      "tensor(2.6948, device='cuda:0')\n",
      "tensor(0., device='cuda:0')\n",
      "tensor(0., device='cuda:0')\n",
      "tensor(0., device='cuda:0')\n",
      "tensor(0., device='cuda:0')\n",
      "tensor(2.8367, device='cuda:0')\n",
      "tensor(0., device='cuda:0')\n",
      "tensor(0., device='cuda:0')\n",
      "tensor(0., device='cuda:0')\n",
      "tensor(0., device='cuda:0')\n",
      "tensor(2.7747, device='cuda:0')\n",
      "tensor(0., device='cuda:0')\n",
      "tensor(0., device='cuda:0')\n",
      "tensor(0., device='cuda:0')\n",
      "tensor(0., device='cuda:0')\n",
      "tensor(2.6168, device='cuda:0')\n",
      "tensor(0., device='cuda:0')\n",
      "tensor(0., device='cuda:0')\n",
      "tensor(0., device='cuda:0')\n",
      "tensor(0., device='cuda:0')\n",
      "tensor(2.6745, device='cuda:0')\n",
      "tensor(0., device='cuda:0')\n",
      "tensor(0., device='cuda:0')\n",
      "tensor(0., device='cuda:0')\n",
      "tensor(0., device='cuda:0')\n",
      "tensor(2.5788, device='cuda:0')\n",
      "tensor(0., device='cuda:0')\n",
      "tensor(0., device='cuda:0')\n",
      "tensor(0., device='cuda:0')\n",
      "tensor(0., device='cuda:0')\n",
      "tensor(2.6901, device='cuda:0')\n",
      "tensor(0., device='cuda:0')\n",
      "tensor(0., device='cuda:0')\n",
      "tensor(0., device='cuda:0')\n",
      "tensor(0., device='cuda:0')\n",
      "tensor(2.6301, device='cuda:0')\n",
      "tensor(0., device='cuda:0')\n",
      "tensor(0., device='cuda:0')\n",
      "tensor(0., device='cuda:0')\n",
      "tensor(0., device='cuda:0')\n",
      "tensor(2.6910, device='cuda:0')\n",
      "tensor(0., device='cuda:0')\n",
      "tensor(0., device='cuda:0')\n",
      "tensor(0., device='cuda:0')\n",
      "tensor(0., device='cuda:0')\n",
      "tensor(2.6252, device='cuda:0')\n",
      "tensor(0., device='cuda:0')\n",
      "tensor(0., device='cuda:0')\n",
      "tensor(0., device='cuda:0')\n",
      "tensor(0., device='cuda:0')\n",
      "tensor(2.5984, device='cuda:0')\n",
      "tensor(0., device='cuda:0')\n",
      "tensor(0., device='cuda:0')\n",
      "tensor(0., device='cuda:0')\n",
      "tensor(0., device='cuda:0')\n",
      "tensor(2.6725, device='cuda:0')\n",
      "tensor(0., device='cuda:0')\n",
      "tensor(0., device='cuda:0')\n",
      "tensor(0., device='cuda:0')\n",
      "tensor(0., device='cuda:0')\n",
      "tensor(2.6690, device='cuda:0')\n",
      "tensor(0., device='cuda:0')\n",
      "tensor(0., device='cuda:0')\n",
      "tensor(0., device='cuda:0')\n",
      "tensor(0., device='cuda:0')\n",
      "tensor(2.7030, device='cuda:0')\n",
      "tensor(0., device='cuda:0')\n",
      "tensor(0., device='cuda:0')\n",
      "tensor(0., device='cuda:0')\n",
      "tensor(0., device='cuda:0')\n",
      "tensor(2.6470, device='cuda:0')\n",
      "tensor(0., device='cuda:0')\n",
      "tensor(0., device='cuda:0')\n",
      "tensor(0., device='cuda:0')\n",
      "tensor(0., device='cuda:0')\n"
     ]
    },
    {
     "name": "stderr",
     "output_type": "stream",
     "text": [
      "[2021-04-18 22:13:16,362-rk0-resnet.py<forward>#231] p3 torch.Size([6, 1024, 15, 15])\n",
      "[2021-04-18 22:13:16,369-rk0-resnet.py<forward>#231] p3 torch.Size([5, 1024, 15, 15])\n",
      "[2021-04-18 22:13:16,722-rk0-resnet.py<forward>#231] p3 torch.Size([6, 1024, 31, 31])\n",
      "[2021-04-18 22:13:16,722-rk0-resnet.py<forward>#231] p3 torch.Size([5, 1024, 31, 31])\n"
     ]
    },
    {
     "name": "stdout",
     "output_type": "stream",
     "text": [
      "tensor(2.7087, device='cuda:0')\n",
      "tensor(0., device='cuda:0')\n",
      "tensor(0., device='cuda:0')\n",
      "tensor(0., device='cuda:0')\n",
      "tensor(0., device='cuda:0')\n"
     ]
    }
   ],
   "source": [
    "with torch.no_grad():\n",
    "    \n",
    "    for iter, input in enumerate(val_loader):\n",
    "        x = {\n",
    "                          'cfg': cfg,\n",
    "                          'template': torch.autograd.Variable(input[0]).cuda(),\n",
    "                          'search': torch.autograd.Variable(input[1]).cuda(),\n",
    "                          'label_cls': torch.autograd.Variable(input[2]).cuda(),\n",
    "                          'label_loc': torch.autograd.Variable(input[3]).cuda(),\n",
    "                          'label_loc_weight': torch.autograd.Variable(input[4]).cuda(),\n",
    "                          'label_mask': torch.autograd.Variable(input[6]).cuda(),\n",
    "                          'label_mask_weight': torch.autograd.Variable(input[7]).cuda(),\n",
    "                      }\n",
    "        outputs = model(x)\n",
    "        rpn_cls_loss, rpn_mask_loss = torch.mean(outputs['losses'][0]), torch.mean(outputs['losses'][1])\n",
    "        mask_iou_mean, mask_iou_at_5, mask_iou_at_7 = torch.mean(outputs['accuracy'][0]), torch.mean(outputs['accuracy'][1]), torch.mean(outputs['accuracy'][2])\n",
    "\n",
    "        cls_weight, reg_weight, mask_weight = cfg['loss']['weight']\n",
    "        print(rpn_cls_loss)\n",
    "        print(rpn_mask_loss)\n",
    "        print(mask_iou_mean)\n",
    "        print(mask_iou_at_5)\n",
    "        print(mask_iou_at_7)"
   ]
  },
  {
   "cell_type": "code",
   "execution_count": 199,
   "id": "f3a0b29b",
   "metadata": {},
   "outputs": [
    {
     "data": {
      "text/plain": [
       "17.34375"
      ]
     },
     "execution_count": 199,
     "metadata": {},
     "output_type": "execute_result"
    }
   ],
   "source": [
    "len(val_loader.dataset)/val_loader.batch_size"
   ]
  },
  {
   "cell_type": "code",
   "execution_count": 175,
   "id": "d9ddf789",
   "metadata": {},
   "outputs": [],
   "source": [
    "rpn_cls_loss, rpn_mask_loss = torch.mean(outputs['losses'][0]), torch.mean(outputs['losses'][1])\n",
    "mask_iou_mean, mask_iou_at_5, mask_iou_at_7 = torch.mean(outputs['accuracy'][0]), torch.mean(outputs['accuracy'][1]), torch.mean(outputs['accuracy'][2])\n",
    "\n",
    "cls_weight, reg_weight, mask_weight = cfg['loss']['weight']"
   ]
  },
  {
   "cell_type": "code",
   "execution_count": 176,
   "id": "b8bc61df",
   "metadata": {},
   "outputs": [
    {
     "name": "stdout",
     "output_type": "stream",
     "text": [
      "tensor(0.1587, device='cuda:0')\n",
      "tensor(0.1527, device='cuda:0')\n",
      "tensor(0.6107, device='cuda:0')\n",
      "tensor(0.8351, device='cuda:0')\n",
      "tensor(0.4522, device='cuda:0')\n"
     ]
    }
   ],
   "source": [
    "print(rpn_cls_loss)\n",
    "print(rpn_mask_loss)\n",
    "print(mask_iou_mean)\n",
    "print(mask_iou_at_5)\n",
    "print(mask_iou_at_7)"
   ]
  },
  {
   "cell_type": "code",
   "execution_count": 177,
   "id": "3549b357",
   "metadata": {},
   "outputs": [
    {
     "data": {
      "text/plain": [
       "0.4521576166152954"
      ]
     },
     "execution_count": 177,
     "metadata": {},
     "output_type": "execute_result"
    }
   ],
   "source": [
    "float(mask_iou_at_7)"
   ]
  },
  {
   "cell_type": "code",
   "execution_count": 178,
   "id": "3b63b782",
   "metadata": {},
   "outputs": [
    {
     "data": {
      "text/plain": [
       "tensor([0.5901, 0.6312], device='cuda:0')"
      ]
     },
     "execution_count": 178,
     "metadata": {},
     "output_type": "execute_result"
    }
   ],
   "source": [
    "outputs['accuracy'][0]"
   ]
  },
  {
   "cell_type": "code",
   "execution_count": 179,
   "id": "eec09c38",
   "metadata": {},
   "outputs": [
    {
     "data": {
      "text/plain": [
       "<matplotlib.image.AxesImage at 0x2b8dd441b080>"
      ]
     },
     "execution_count": 179,
     "metadata": {},
     "output_type": "execute_result"
    },
    {
     "data": {
      "image/png": "[encoded data removed]",
      "text/plain": [
       "<Figure size 432x288 with 1 Axes>"
      ]
     },
     "metadata": {
      "needs_background": "light"
     },
     "output_type": "display_data"
    }
   ],
   "source": [
    "import numpy as np\n",
    "import matplotlib.pyplot as plt\n",
    "n = np.array(input[1][8,:,:,:])\n",
    "n = n.astype(np.uint8)\n",
    "n = np.einsum('ijk -> jki', n)\n",
    "plt.imshow(n)"
   ]
  },
  {
   "cell_type": "code",
   "execution_count": 180,
   "id": "483079b4",
   "metadata": {},
   "outputs": [
    {
     "name": "stdout",
     "output_type": "stream",
     "text": [
      "(255, 255)\n"
     ]
    },
    {
     "data": {
      "text/plain": [
       "<matplotlib.image.AxesImage at 0x2b8dd54189b0>"
      ]
     },
     "execution_count": 180,
     "metadata": {},
     "output_type": "execute_result"
    },
    {
     "data": {
      "image/png": "[encoded data removed]",
      "text/plain": [
       "<Figure size 432x288 with 1 Axes>"
      ]
     },
     "metadata": {
      "needs_background": "light"
     },
     "output_type": "display_data"
    }
   ],
   "source": [
    "import numpy as np\n",
    "import matplotlib.pyplot as plt\n",
    "n = np.array(input[6][8,:,:,:].squeeze(0))\n",
    "print(n.shape)\n",
    "n = n.astype(np.uint8)\n",
    "plt.imshow(n)"
   ]
  },
  {
   "cell_type": "code",
   "execution_count": 181,
   "id": "8410012d",
   "metadata": {},
   "outputs": [
    {
     "data": {
      "text/plain": [
       "torch.Size([32, 3969, 25, 25])"
      ]
     },
     "execution_count": 181,
     "metadata": {},
     "output_type": "execute_result"
    }
   ],
   "source": [
    "outputs['predict'][2].shape"
   ]
  },
  {
   "cell_type": "code",
   "execution_count": 182,
   "id": "05d4d459",
   "metadata": {},
   "outputs": [
    {
     "name": "stdout",
     "output_type": "stream",
     "text": [
      "tensor(0.6131, device='cuda:0')\n",
      "tensor(0.8387, device='cuda:0')\n",
      "tensor(0.4624, device='cuda:0')\n"
     ]
    }
   ],
   "source": [
    "from torch import nn\n",
    "import torch.nn.functional as F\n",
    "\n",
    "g_sz=127\n",
    "o_sz=63\n",
    "weight = input[7]\n",
    "weight = weight.view(-1).cuda()\n",
    "mask = input[6].cuda()\n",
    "pos = torch.autograd.Variable(weight.data.eq(1).nonzero().squeeze())\n",
    "if pos.nelement() == 0: print(\"error\")\n",
    "p_m = outputs['predict'][2]\n",
    "p_m = p_m.permute(0, 2, 3, 1).contiguous().view(-1, 1, o_sz, o_sz)\n",
    "p_m = torch.index_select(p_m, 0, pos)\n",
    "p_m = nn.UpsamplingBilinear2d(size=[g_sz, g_sz])(p_m)\n",
    "p_m = p_m.view(-1, g_sz * g_sz)\n",
    "\n",
    "def iou_measure(pred, label):\n",
    "    pred = pred.ge(0)\n",
    "    mask_sum = pred.eq(1).add(label.eq(1))\n",
    "    intxn = torch.sum(mask_sum == 2, dim=1).float()\n",
    "    union = torch.sum(mask_sum > 0, dim=1).float()\n",
    "    iou = intxn/union\n",
    "    return torch.mean(iou), (torch.sum(iou > 0.5).float()/iou.shape[0]), (torch.sum(iou > 0.7).float()/iou.shape[0])\n",
    "mask_uf = F.unfold(mask, (g_sz, g_sz), padding=32, stride=8)\n",
    "mask_uf = torch.transpose(mask_uf, 1, 2).contiguous().view(-1, g_sz * g_sz)\n",
    "    \n",
    "mask_uf = torch.index_select(mask_uf, 0, pos)\n",
    "loss = F.soft_margin_loss(p_m, mask_uf)\n",
    "iou_m, iou_5, iou_7 = iou_measure(p_m, mask_uf)\n",
    "\n",
    "print(iou_m)\n",
    "print(iou_5)\n",
    "print(iou_7)"
   ]
  },
  {
   "cell_type": "code",
   "execution_count": 194,
   "id": "ea8a1249",
   "metadata": {},
   "outputs": [
    {
     "name": "stdout",
     "output_type": "stream",
     "text": [
      "torch.Size([32, 1, 255, 255])\n",
      "torch.Size([32, 16129, 625])\n",
      "torch.Size([32, 3969, 25, 25])\n",
      "torch.Size([93, 16129])\n"
     ]
    }
   ],
   "source": [
    "print(mask.shape)\n",
    "mask_uf = F.unfold(mask, (g_sz, g_sz), padding=32, stride=8)\n",
    "print(mask_uf.shape)\n",
    "print(outputs['predict'][2].shape)\n",
    "print(p_m.shape)"
   ]
  },
  {
   "cell_type": "code",
   "execution_count": 142,
   "id": "637faec7",
   "metadata": {},
   "outputs": [
    {
     "ename": "AttributeError",
     "evalue": "'Custom' object has no attribute 'select_mask_logistic_loss'",
     "output_type": "error",
     "traceback": [
      "\u001b[0;31m---------------------------------------------------------------------------\u001b[0m",
      "\u001b[0;31mAttributeError\u001b[0m                            Traceback (most recent call last)",
      "\u001b[0;32m<ipython-input-142-e5f40ef73e87>\u001b[0m in \u001b[0;36m<module>\u001b[0;34m\u001b[0m\n\u001b[0;32m----> 1\u001b[0;31m \u001b[0mmodel\u001b[0m\u001b[0;34m.\u001b[0m\u001b[0mmodule\u001b[0m\u001b[0;34m.\u001b[0m\u001b[0mselect_mask_logistic_loss\u001b[0m\u001b[0;34m(\u001b[0m\u001b[0moutputs\u001b[0m\u001b[0;34m[\u001b[0m\u001b[0;34m'predict'\u001b[0m\u001b[0;34m]\u001b[0m\u001b[0;34m[\u001b[0m\u001b[0;36m2\u001b[0m\u001b[0;34m]\u001b[0m\u001b[0;34m,\u001b[0m \u001b[0minput\u001b[0m\u001b[0;34m[\u001b[0m\u001b[0;36m6\u001b[0m\u001b[0;34m]\u001b[0m\u001b[0;34m,\u001b[0m \u001b[0minput\u001b[0m\u001b[0;34m[\u001b[0m\u001b[0;36m7\u001b[0m\u001b[0;34m]\u001b[0m\u001b[0;34m)\u001b[0m\u001b[0;34m\u001b[0m\u001b[0;34m\u001b[0m\u001b[0m\n\u001b[0m",
      "\u001b[0;32m/projectnb/ece601/cliao25/SiamMask/.conda/siammask/lib/python3.6/site-packages/torch/nn/modules/module.py\u001b[0m in \u001b[0;36m__getattr__\u001b[0;34m(self, name)\u001b[0m\n\u001b[1;32m    516\u001b[0m                 \u001b[0;32mreturn\u001b[0m \u001b[0mmodules\u001b[0m\u001b[0;34m[\u001b[0m\u001b[0mname\u001b[0m\u001b[0;34m]\u001b[0m\u001b[0;34m\u001b[0m\u001b[0;34m\u001b[0m\u001b[0m\n\u001b[1;32m    517\u001b[0m         raise AttributeError(\"'{}' object has no attribute '{}'\".format(\n\u001b[0;32m--> 518\u001b[0;31m             type(self).__name__, name))\n\u001b[0m\u001b[1;32m    519\u001b[0m \u001b[0;34m\u001b[0m\u001b[0m\n\u001b[1;32m    520\u001b[0m     \u001b[0;32mdef\u001b[0m \u001b[0m__setattr__\u001b[0m\u001b[0;34m(\u001b[0m\u001b[0mself\u001b[0m\u001b[0;34m,\u001b[0m \u001b[0mname\u001b[0m\u001b[0;34m,\u001b[0m \u001b[0mvalue\u001b[0m\u001b[0;34m)\u001b[0m\u001b[0;34m:\u001b[0m\u001b[0;34m\u001b[0m\u001b[0;34m\u001b[0m\u001b[0m\n",
      "\u001b[0;31mAttributeError\u001b[0m: 'Custom' object has no attribute 'select_mask_logistic_loss'"
     ]
    }
   ],
   "source": [
    "model.module.select_mask_logistic_loss(outputs['predict'][2], input[6], input[7])"
   ]
  },
  {
   "cell_type": "code",
   "execution_count": null,
   "id": "c337bb41",
   "metadata": {},
   "outputs": [],
   "source": []
  }
 ],
 "metadata": {
  "kernelspec": {
   "display_name": "Python 3",
   "language": "python",
   "name": "python3"
  },
  "language_info": {
   "codemirror_mode": {
    "name": "ipython",
    "version": 3
   },
   "file_extension": ".py",
   "mimetype": "text/x-python",
   "name": "python",
   "nbconvert_exporter": "python",
   "pygments_lexer": "ipython3",
   "version": "3.6.13"
  }
 },
 "nbformat": 4,
 "nbformat_minor": 5
}
